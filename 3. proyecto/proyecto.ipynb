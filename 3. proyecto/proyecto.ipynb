{
 "cells": [
  {
   "cell_type": "markdown",
   "metadata": {},
   "source": [
    "# Taller: Introducción a Python y Visualización Geoespacial\n",
    "\n",
    "**Objetivo:** Desarrollar habilidades básicas en programación con Python, manejo de datos tabulares con pandas y creación de mapas simples con datos climáticos.\n",
    "\n",
    "1. **Introducción a estructuras básicas de Python**\n",
    "\n",
    "    * Define una lista con los nombres de cuatro ciudades colombianas: Bogotá, Medellín, Cali y Barranquilla.\n",
    "    * Escribe un programa que recorra esta lista e imprima cada ciudad con el mensaje: \"La ciudad de [nombre] está registrada en la lista.\"\n",
    "\n",
    "    Instrucciones sugeridas: \n",
    "\n",
    "    * Usa un ciclo for para recorrer la lista."
   ]
  },
  {
   "cell_type": "markdown",
   "metadata": {},
   "source": [
    "2. **Conectarse a una API para obtener datos climáticos**\n",
    "    * Usa la API de OpenWeatherMap para consultar datos climáticos de Bogotá.\n",
    "    * Extrae los siguientes datos del resultado:\n",
    "        * Temperatura actual.\n",
    "        * Humedad.\n",
    "        * Clima (descripción general).\n",
    "    * Imprime esta información con el formato:\n",
    "        * \"La temperatura actual en Bogotá es de [temperatura]°C con un clima [clima] y una humedad del [humedad]%.\"\n",
    "\n",
    "    Instrucciones sugeridas:\n",
    "    \n",
    "    * Regístrate en OpenWeatherMap para obtener una API Key.\n",
    "    * Usa la librería requests para hacer una solicitud a la API."
   ]
  },
  {
   "cell_type": "markdown",
   "metadata": {},
   "source": [
    "3. **Crear y manipular datos con pandas**\n",
    "\n",
    "    * Usa los datos climáticos de las ciudades: Bogotá, Medellín, Cali y Barranquilla.\n",
    "    * Organiza esta información en un DataFrame con las columnas: Ciudad, Temperatura, Humedad y Clima.\n",
    "    * Agrega una nueva columna al DataFrame que calcule si la temperatura es \"fría\" (menor a 15°C) o \"cálida\" (15°C o más).\n",
    "\n",
    "    Instrucciones sugeridas:\n",
    "\n",
    "    * Define un diccionario con los datos y crea un DataFrame a partir de él.\n",
    "    * Usa una función lambda para agregar la nueva columna."
   ]
  },
  {
   "cell_type": "code",
   "execution_count": null,
   "metadata": {},
   "outputs": [],
   "source": [
    "import pandas as pd\n",
    "\n",
    "# Datos simulados\n",
    "datos = {\n",
    "    \"Ciudad\": [\"Bogotá\", \"Medellín\", \"Cali\", \"Barranquilla\"],\n",
    "    \"Temperatura\": [10.5, 18.3, 20.1, 29.0],\n",
    "    \"Humedad\": [90, 85, 80, 70],\n",
    "    \"Clima\": [\"Nublado\", \"Lluvia\", \"Despejado\", \"Soleado\"]\n",
    "}"
   ]
  },
  {
   "cell_type": "markdown",
   "metadata": {},
   "source": [
    "4. **Crear un mapa básico con Folium**\n",
    "\n",
    "    * Usa Folium para crear un mapa centrado en Colombia.\n",
    "    * Añade un marcador para cada ciudad en el mapa.\n",
    "    * El marcador debe incluir un cuadro de información emergente con el mensaje:\n",
    "        * \"La ciudad de [nombre] tiene una temperatura de [temperatura]°C y clima [clima].\"\n",
    "    \n",
    "    Instrucciones:\n",
    "\n",
    "    * Define las coordenadas aproximadas de cada ciudad.\n",
    "    * Usa folium.Marker para añadir marcadores al mapa."
   ]
  },
  {
   "cell_type": "markdown",
   "metadata": {},
   "source": [
    "5. **Personalizar el mapa con colores dinámicos**\n",
    "\n",
    "    * Usa una función para asignar colores a los marcadores según la temperatura:\n",
    "        * Azul: Temperaturas menores a 15°C.\n",
    "        * Verde: Temperaturas entre 15°C y 25°C.\n",
    "        * Rojo: Temperaturas mayores a 25°C.\n",
    "    * Cambia los iconos de los marcadores para que reflejen esta personalización.\n",
    "    \n",
    "    Instrucciones:\n",
    "\n",
    "    * Define la función para asignar colores.\n",
    "    * Aplica esta función al añadir los marcadores."
   ]
  },
  {
   "cell_type": "markdown",
   "metadata": {},
   "source": [
    "## Entrega:\n",
    "\n",
    "* Archivo del notebook con las respuestas completas.\n",
    "* Mapas generados en formato html.\n",
    "\n",
    "**Resultado esperado:** Un mapa interactivo que muestra datos climáticos de ciudades colombianas con marcadores personalizados y cuadros emergentes con información detallada."
   ]
  },
  {
   "cell_type": "markdown",
   "metadata": {},
   "source": []
  }
 ],
 "metadata": {
  "language_info": {
   "name": "python"
  }
 },
 "nbformat": 4,
 "nbformat_minor": 2
}
