{
 "cells": [
  {
   "cell_type": "markdown",
   "metadata": {},
   "source": [
    "# Introducción a Python"
   ]
  },
  {
   "cell_type": "markdown",
   "metadata": {},
   "source": [
    "### 1. Uso de comentarios"
   ]
  },
  {
   "cell_type": "code",
   "execution_count": 2,
   "metadata": {},
   "outputs": [],
   "source": [
    "# Esto es un comentario de Python"
   ]
  },
  {
   "cell_type": "code",
   "execution_count": 3,
   "metadata": {},
   "outputs": [
    {
     "name": "stdout",
     "output_type": "stream",
     "text": [
      "\n",
      "este será un texto largo\n",
      "\n",
      "linea 1\n",
      "\n",
      "linea 2\n"
     ]
    }
   ],
   "source": [
    "texto = \"\"\"\n",
    "este será un texto largo\\n\n",
    "linea 1\\n\n",
    "linea 2\"\"\"\n",
    "\n",
    "print(texto)"
   ]
  },
  {
   "cell_type": "markdown",
   "metadata": {},
   "source": [
    "### 2. Variables y tipos de datos"
   ]
  },
  {
   "cell_type": "code",
   "execution_count": 4,
   "metadata": {},
   "outputs": [
    {
     "name": "stdout",
     "output_type": "stream",
     "text": [
      "Esto es una cadena de texto___Esto es otra cadena de texto <class 'str'>\n",
      "Esto es una cadena de texto Esto es otra cadena de texto <class 'str'>\n",
      "27\n",
      "E\n",
      "Esto \n"
     ]
    }
   ],
   "source": [
    "# Cadenas de texto\n",
    "mystr1 = \"Esto es una cadena de texto\"\n",
    "mystr2 = 'Esto es otra cadena de texto'\n",
    "\n",
    "# print(mystr1, type(mystr1))\n",
    "# print(mystr2, type(mystr2))\n",
    "\n",
    "# Concatenar cadenas de texto\n",
    "mystr3 = mystr1 + \"___\" + mystr2\n",
    "print(mystr3, type(mystr3))\n",
    "\n",
    "# Formatear cadenas de texto\n",
    "mystr4 = f\"{mystr1} {mystr2}\"\n",
    "print(mystr4, type(mystr4))\n",
    "\n",
    "# Longitud de una cadena de texto\n",
    "print(len(mystr1))\n",
    "\n",
    "# Obtener una subcadena de una cadena de texto\n",
    "print(mystr1[0])\n",
    "print(mystr1[0:5])"
   ]
  },
  {
   "cell_type": "code",
   "execution_count": 5,
   "metadata": {},
   "outputs": [
    {
     "name": "stdout",
     "output_type": "stream",
     "text": [
      "10 <class 'int'>\n",
      "3.14 <class 'float'>\n",
      "13.14 <class 'float'>\n",
      "7.7\n",
      "19.0\n",
      "3.3333333333333335\n",
      "27\n",
      "4.0\n"
     ]
    }
   ],
   "source": [
    "# Enteros\n",
    "myint = 10\n",
    "\n",
    "print(myint, type(myint))\n",
    "\n",
    "# Flotantes\n",
    "myfloat = 3.14\n",
    "myfloat2 = 3.0\n",
    "\n",
    "print(myfloat, type(myfloat))\n",
    "\n",
    "# Operaciones aritméticas\n",
    "sum_int_float = myint + myfloat\n",
    "print(sum_int_float, type(sum_int_float))\n",
    "\n",
    "# Resta\n",
    "print(15-7.3)\n",
    "\n",
    "# Multiplicación\n",
    "print(2 * 9.5)\n",
    "\n",
    "# División\n",
    "print(10 / 3)\n",
    "\n",
    "# Potencias\n",
    "print(3 ** 3)\n",
    "\n",
    "# Raices\n",
    "print(16 ** (1/2))"
   ]
  },
  {
   "cell_type": "code",
   "execution_count": 6,
   "metadata": {},
   "outputs": [
    {
     "name": "stdout",
     "output_type": "stream",
     "text": [
      "False <class 'bool'>\n",
      "True\n",
      "True\n",
      "False\n",
      "False\n",
      "True\n"
     ]
    }
   ],
   "source": [
    "# Booleanos\n",
    "mybool = True\n",
    "mybool = False\n",
    "\n",
    "print(mybool, type(mybool))\n",
    "\n",
    "print(2 == 2.0)\n",
    "print(2 != 3)\n",
    "print(2 == 3)\n",
    "\n",
    "print(\"Hola Mundo\" == \"hola Mundo\")\n",
    "print(\"Hola Mundo\" == \"hola Mundo\".title())"
   ]
  },
  {
   "cell_type": "code",
   "execution_count": 38,
   "metadata": {},
   "outputs": [
    {
     "name": "stdout",
     "output_type": "stream",
     "text": [
      "[0, 1, 2, 3] <class 'list'>\n"
     ]
    }
   ],
   "source": [
    "# Listas\n",
    "mylist = [0, 1, 2, 3]\n",
    "mylist2 = ['a', 'b', 'c']\n",
    "\n",
    "print(mylist, type(mylist))"
   ]
  },
  {
   "cell_type": "code",
   "execution_count": 39,
   "metadata": {},
   "outputs": [],
   "source": [
    "mylist.append(4)"
   ]
  },
  {
   "cell_type": "code",
   "execution_count": 41,
   "metadata": {},
   "outputs": [
    {
     "data": {
      "text/plain": [
       "1"
      ]
     },
     "execution_count": 41,
     "metadata": {},
     "output_type": "execute_result"
    }
   ],
   "source": [
    "mylist.count(0)"
   ]
  },
  {
   "cell_type": "code",
   "execution_count": 42,
   "metadata": {},
   "outputs": [
    {
     "data": {
      "text/plain": [
       "5"
      ]
     },
     "execution_count": 42,
     "metadata": {},
     "output_type": "execute_result"
    }
   ],
   "source": [
    "len(mylist)"
   ]
  },
  {
   "cell_type": "code",
   "execution_count": 43,
   "metadata": {},
   "outputs": [
    {
     "name": "stdout",
     "output_type": "stream",
     "text": [
      "[0, 1, 2, 3, 4, 4, [], [1, 2, 3, 4], {1, 2, 3, 4}]\n"
     ]
    }
   ],
   "source": [
    "mylist.append(4)\n",
    "mylist.append([])\n",
    "mylist.append([1,2,3,4])\n",
    "mylist.append({1,2,3,4})\n",
    "print(mylist)"
   ]
  },
  {
   "cell_type": "code",
   "execution_count": 44,
   "metadata": {},
   "outputs": [
    {
     "name": "stdout",
     "output_type": "stream",
     "text": [
      "5\n",
      "['cadenas', 152, 152.56, True, ['cadenas', 152, 152.56, True]] <class 'list'>\n"
     ]
    }
   ],
   "source": [
    "# Listas\n",
    "mylist = [0, 1, 2, 3]\n",
    "mylist2 = ['a', 'b', 'c']\n",
    "\n",
    "# Agregar elementos a una lista\n",
    "mylist.append(4)\n",
    "\n",
    "# Longitud de una lista\n",
    "print(len(mylist))\n",
    "\n",
    "mylist3 = [\"cadenas\", 152, 152.56, True, [\"cadenas\", 152, 152.56, True]]\n",
    "print(mylist3, type(mylist3))"
   ]
  },
  {
   "cell_type": "code",
   "execution_count": 49,
   "metadata": {},
   "outputs": [
    {
     "name": "stdout",
     "output_type": "stream",
     "text": [
      "mi lista tiene 5 elementos.\n"
     ]
    }
   ],
   "source": [
    "if len(mylist) == 5:\n",
    "    print('mi lista tiene 5 elementos.')\n",
    "else:\n",
    "    print('mi lista no tiene 5 elementos.')"
   ]
  },
  {
   "cell_type": "code",
   "execution_count": 59,
   "metadata": {},
   "outputs": [
    {
     "name": "stdout",
     "output_type": "stream",
     "text": [
      "3\n"
     ]
    }
   ],
   "source": [
    "var1 = 'b'\n",
    "var1 = 3\n",
    "\n",
    "print(var1)"
   ]
  },
  {
   "cell_type": "code",
   "execution_count": 77,
   "metadata": {},
   "outputs": [
    {
     "data": {
      "text/plain": [
       "{'a': 1, 2: 'b', 4: 3}"
      ]
     },
     "execution_count": 77,
     "metadata": {},
     "output_type": "execute_result"
    }
   ],
   "source": [
    "mydict = {'a': 1, \n",
    "          2: 'b', \n",
    "          4: 3}\n",
    "\n",
    "mydict"
   ]
  },
  {
   "cell_type": "code",
   "execution_count": 78,
   "metadata": {},
   "outputs": [
    {
     "data": {
      "text/plain": [
       "1"
      ]
     },
     "execution_count": 78,
     "metadata": {},
     "output_type": "execute_result"
    }
   ],
   "source": [
    "mydict.get('a')"
   ]
  },
  {
   "cell_type": "code",
   "execution_count": 79,
   "metadata": {},
   "outputs": [
    {
     "data": {
      "text/plain": [
       "{'a': 'nuevo valor de a', 2: 'b', 4: 3}"
      ]
     },
     "execution_count": 79,
     "metadata": {},
     "output_type": "execute_result"
    }
   ],
   "source": [
    "mydict['a'] = 'nuevo valor de a'\n",
    "mydict"
   ]
  },
  {
   "cell_type": "code",
   "execution_count": 69,
   "metadata": {},
   "outputs": [
    {
     "data": {
      "text/plain": [
       "'este es un nuevo valor de a'"
      ]
     },
     "execution_count": 69,
     "metadata": {},
     "output_type": "execute_result"
    }
   ],
   "source": [
    "mydict.get('a')"
   ]
  },
  {
   "cell_type": "code",
   "execution_count": 70,
   "metadata": {},
   "outputs": [
    {
     "data": {
      "text/plain": [
       "dict_keys(['a', 2, 4])"
      ]
     },
     "execution_count": 70,
     "metadata": {},
     "output_type": "execute_result"
    }
   ],
   "source": [
    "mydict.keys()"
   ]
  },
  {
   "cell_type": "code",
   "execution_count": 71,
   "metadata": {},
   "outputs": [
    {
     "data": {
      "text/plain": [
       "dict_values(['este es un nuevo valor de a', 'b', 3])"
      ]
     },
     "execution_count": 71,
     "metadata": {},
     "output_type": "execute_result"
    }
   ],
   "source": [
    "mydict.values()"
   ]
  },
  {
   "cell_type": "code",
   "execution_count": 80,
   "metadata": {},
   "outputs": [
    {
     "data": {
      "text/plain": [
       "{'a': 'nuevo valor de a',\n",
       " 2: 'b',\n",
       " 4: 3,\n",
       " 'nuevo valor': 'este es un nuevo valor',\n",
       " 'nuevo': True}"
      ]
     },
     "execution_count": 80,
     "metadata": {},
     "output_type": "execute_result"
    }
   ],
   "source": [
    "mydict['nuevo valor'] = 'este es un nuevo valor'\n",
    "mydict['nuevo'] = True\n",
    "mydict"
   ]
  },
  {
   "cell_type": "code",
   "execution_count": 8,
   "metadata": {},
   "outputs": [
    {
     "name": "stdout",
     "output_type": "stream",
     "text": [
      "{'a': 1, 'b': 2, 'c': 3} <class 'dict'>\n",
      "1\n",
      "dict_keys(['a', 'b', 'c'])\n",
      "dict_values(['manzanas', 'banano', 'fresas'])\n",
      "Manzanas\n",
      "{'a': 'Manzanas', 'b': 'banano', 'c': 'fresas', 'd': 'mangos', 'e': 'cocos'}\n"
     ]
    }
   ],
   "source": [
    "# Diccionarios\n",
    "mydict = {'a': 1, 'b': 2, 'c': 3}\n",
    "mydict2 = {'a': 'manzanas', 'b': 'banano', 'c': 'fresas'}\n",
    "\n",
    "print(mydict, type(mydict))\n",
    "\n",
    "# Tener acceso a un elemento del diccionario\n",
    "print(mydict.get('a'))\n",
    "\n",
    "print(mydict2.keys())\n",
    "\n",
    "print(mydict2.values())\n",
    "\n",
    "mydict2['a'] = 'Manzanas'\n",
    "print(mydict2.get('a'))\n",
    "\n",
    "mydict2['d'] = 'mangos'\n",
    "mydict2['e'] = 'cocos'\n",
    "\n",
    "print(mydict2)"
   ]
  },
  {
   "cell_type": "markdown",
   "metadata": {},
   "source": [
    "### 3. Condicionales"
   ]
  },
  {
   "cell_type": "code",
   "execution_count": 9,
   "metadata": {},
   "outputs": [
    {
     "name": "stdout",
     "output_type": "stream",
     "text": [
      "Es 10\n"
     ]
    }
   ],
   "source": [
    "myint = 10\n",
    "\n",
    "if myint == 10:\n",
    "    print(\"Es 10\")\n",
    "elif myint == 11:\n",
    "    print(\"Es 11\")\n",
    "else:\n",
    "    print(\"No es 10 ni 11\")"
   ]
  },
  {
   "cell_type": "markdown",
   "metadata": {},
   "source": [
    "### 4. Bucles"
   ]
  },
  {
   "cell_type": "code",
   "execution_count": 107,
   "metadata": {},
   "outputs": [
    {
     "name": "stdout",
     "output_type": "stream",
     "text": [
      "4650 1162.5\n"
     ]
    }
   ],
   "source": [
    "precios = [1000, 1500, 1050, 1100]\n",
    "\n",
    "# Promedio\n",
    "# 1. Sumar valores de una lista (Listo)\n",
    "# 2. Conocer la longitud de la lista (Listo)\n",
    "# 3. Dividir la suma de los elementos sobre la cantidad de elementos\n",
    "\n",
    "suma_de_los_elementos = 0\n",
    "\n",
    "for precio in precios:\n",
    "    suma_de_los_elementos = suma_de_los_elementos + precio\n",
    "\n",
    "cantidad_de_elementos = len(precios)\n",
    "\n",
    "print(suma_de_los_elementos, suma_de_los_elementos / cantidad_de_elementos)"
   ]
  },
  {
   "cell_type": "code",
   "execution_count": 94,
   "metadata": {},
   "outputs": [
    {
     "data": {
      "text/plain": [
       "[1000, 1500, 1050, 1100]"
      ]
     },
     "execution_count": 94,
     "metadata": {},
     "output_type": "execute_result"
    }
   ],
   "source": [
    "precios"
   ]
  },
  {
   "cell_type": "code",
   "execution_count": 86,
   "metadata": {},
   "outputs": [
    {
     "data": {
      "text/plain": [
       "range(0, 3)"
      ]
     },
     "execution_count": 86,
     "metadata": {},
     "output_type": "execute_result"
    }
   ],
   "source": [
    "range(3)"
   ]
  },
  {
   "cell_type": "code",
   "execution_count": null,
   "metadata": {},
   "outputs": [
    {
     "name": "stdout",
     "output_type": "stream",
     "text": [
      "1000\n",
      "1500\n",
      "1050\n"
     ]
    }
   ],
   "source": [
    "for i in precios[:len(precios)-1]:\n",
    "    print(i)"
   ]
  },
  {
   "cell_type": "code",
   "execution_count": 36,
   "metadata": {},
   "outputs": [
    {
     "name": "stdout",
     "output_type": "stream",
     "text": [
      "a\n",
      "b\n",
      "c\n"
     ]
    }
   ],
   "source": [
    "for i in mylist2:\n",
    "    print(i)"
   ]
  },
  {
   "cell_type": "code",
   "execution_count": 112,
   "metadata": {},
   "outputs": [
    {
     "name": "stdout",
     "output_type": "stream",
     "text": [
      "Fin del bucle\n",
      "1162.5\n"
     ]
    }
   ],
   "source": [
    "indice_de_mi_precio2 = 0\n",
    "suma_de_elementos2 = 0\n",
    "\n",
    "while indice_de_mi_precio2 < len(precios):\n",
    "    suma_de_elementos2 += precios[indice_de_mi_precio2]\n",
    "    # suma_de_elementos2 = suma_de_elementos2 + precios[indice_de_mi_precio2]\n",
    "    indice_de_mi_precio2 += 1\n",
    "\n",
    "print(\"Fin del bucle\")\n",
    "print(suma_de_elementos2 / len(precios))"
   ]
  },
  {
   "cell_type": "markdown",
   "metadata": {},
   "source": [
    "### 5. Funciones"
   ]
  },
  {
   "cell_type": "code",
   "execution_count": 114,
   "metadata": {},
   "outputs": [],
   "source": [
    "def potencia(base, exponente):\n",
    "    return base ** exponente"
   ]
  },
  {
   "cell_type": "code",
   "execution_count": 115,
   "metadata": {},
   "outputs": [
    {
     "name": "stdout",
     "output_type": "stream",
     "text": [
      "1\n",
      "2\n",
      "4\n",
      "8\n",
      "16\n"
     ]
    }
   ],
   "source": [
    "for i in range(5):\n",
    "    print(potencia(2, i))"
   ]
  },
  {
   "cell_type": "code",
   "execution_count": 41,
   "metadata": {},
   "outputs": [
    {
     "name": "stdout",
     "output_type": "stream",
     "text": [
      "5\n",
      "5\n"
     ]
    }
   ],
   "source": [
    "def sumar(num1, num2):\n",
    "    return num1 + num2\n",
    "\n",
    "print(sumar(2, 3))\n",
    "print(sumar(3, 2))"
   ]
  },
  {
   "cell_type": "code",
   "execution_count": 122,
   "metadata": {},
   "outputs": [],
   "source": [
    "def promedio(lista_de_valores):\n",
    "    # Promedio\n",
    "    # 1. Sumar valores de una lista (Listo)\n",
    "    # 2. Conocer la longitud de la lista (Listo)\n",
    "    # 3. Dividir la suma de los elementos sobre la cantidad de elementos\n",
    "\n",
    "    suma_de_los_elementos = 0\n",
    "\n",
    "    for elemento in lista_de_valores:\n",
    "        suma_de_los_elementos = suma_de_los_elementos + elemento\n",
    "\n",
    "    cantidad_de_elementos = len(lista_de_valores)\n",
    "    promedio = suma_de_los_elementos / cantidad_de_elementos\n",
    "    return promedio"
   ]
  },
  {
   "cell_type": "code",
   "execution_count": 127,
   "metadata": {},
   "outputs": [
    {
     "data": {
      "text/plain": [
       "5.0"
      ]
     },
     "execution_count": 127,
     "metadata": {},
     "output_type": "execute_result"
    }
   ],
   "source": [
    "promedio([1, 2, 3, 4, 5, 6, 7, 8, 9])"
   ]
  },
  {
   "cell_type": "code",
   "execution_count": 128,
   "metadata": {},
   "outputs": [
    {
     "data": {
      "text/plain": [
       "5.0"
      ]
     },
     "execution_count": 128,
     "metadata": {},
     "output_type": "execute_result"
    }
   ],
   "source": [
    "otra_lista = [2, 4, 6, 8]\n",
    "promedio(otra_lista)"
   ]
  },
  {
   "cell_type": "code",
   "execution_count": 129,
   "metadata": {},
   "outputs": [
    {
     "data": {
      "text/plain": [
       "1162.5"
      ]
     },
     "execution_count": 129,
     "metadata": {},
     "output_type": "execute_result"
    }
   ],
   "source": [
    "promedio(precios)"
   ]
  },
  {
   "cell_type": "code",
   "execution_count": 137,
   "metadata": {},
   "outputs": [],
   "source": [
    "def promedio_sin_return(lista_de_valores, promedio):\n",
    "    # Promedio\n",
    "    # 1. Sumar valores de una lista (Listo)\n",
    "    # 2. Conocer la longitud de la lista (Listo)\n",
    "    # 3. Dividir la suma de los elementos sobre la cantidad de elementos\n",
    "\n",
    "    suma_de_los_elementos = 0\n",
    "\n",
    "    for elemento in lista_de_valores:\n",
    "        suma_de_los_elementos = suma_de_los_elementos + elemento\n",
    "\n",
    "    cantidad_de_elementos = len(lista_de_valores)\n",
    "    promedio = suma_de_los_elementos / cantidad_de_elementos\n",
    "    print(promedio)"
   ]
  },
  {
   "cell_type": "code",
   "execution_count": 138,
   "metadata": {},
   "outputs": [
    {
     "name": "stdout",
     "output_type": "stream",
     "text": [
      "1162.5\n",
      "None\n"
     ]
    }
   ],
   "source": [
    "valor_que_estoy_esperando = 0\n",
    "print(promedio_sin_return(precios, valor_que_estoy_esperando))"
   ]
  },
  {
   "cell_type": "code",
   "execution_count": 136,
   "metadata": {},
   "outputs": [
    {
     "data": {
      "text/plain": [
       "0"
      ]
     },
     "execution_count": 136,
     "metadata": {},
     "output_type": "execute_result"
    }
   ],
   "source": [
    "valor_que_estoy_esperando"
   ]
  },
  {
   "cell_type": "code",
   "execution_count": 140,
   "metadata": {},
   "outputs": [
    {
     "name": "stdout",
     "output_type": "stream",
     "text": [
      "Hola_Mundo\n",
      "Hola_MUNDO\n",
      "Hola_mundo\n"
     ]
    }
   ],
   "source": [
    "def concatenar(cadena1, cadena2):\n",
    "    return cadena1 + \"_\" + cadena2\n",
    "\n",
    "print(concatenar(\"Hola\", \"Mundo\"))\n",
    "print(concatenar(\"Hola\", \"Mundo\".upper()))\n",
    "print(concatenar(\"Hola\", \"Mundo\".lower()))"
   ]
  },
  {
   "cell_type": "code",
   "execution_count": null,
   "metadata": {},
   "outputs": [],
   "source": []
  }
 ],
 "metadata": {
  "kernelspec": {
   "display_name": "Python 3",
   "language": "python",
   "name": "python3"
  },
  "language_info": {
   "codemirror_mode": {
    "name": "ipython",
    "version": 3
   },
   "file_extension": ".py",
   "mimetype": "text/x-python",
   "name": "python",
   "nbconvert_exporter": "python",
   "pygments_lexer": "ipython3",
   "version": "3.11.9"
  }
 },
 "nbformat": 4,
 "nbformat_minor": 2
}
