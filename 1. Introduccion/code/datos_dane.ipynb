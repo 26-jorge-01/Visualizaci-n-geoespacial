{
 "cells": [
  {
   "cell_type": "code",
   "execution_count": 1,
   "metadata": {},
   "outputs": [],
   "source": [
    "import pandas as pd"
   ]
  },
  {
   "cell_type": "code",
   "execution_count": 2,
   "metadata": {},
   "outputs": [],
   "source": [
    "datos = pd.read_csv('Departamentos_y_municipios_de_Colombia_20241128.csv')"
   ]
  },
  {
   "cell_type": "code",
   "execution_count": 4,
   "metadata": {},
   "outputs": [
    {
     "data": {
      "text/html": [
       "<div>\n",
       "<style scoped>\n",
       "    .dataframe tbody tr th:only-of-type {\n",
       "        vertical-align: middle;\n",
       "    }\n",
       "\n",
       "    .dataframe tbody tr th {\n",
       "        vertical-align: top;\n",
       "    }\n",
       "\n",
       "    .dataframe thead th {\n",
       "        text-align: right;\n",
       "    }\n",
       "</style>\n",
       "<table border=\"1\" class=\"dataframe\">\n",
       "  <thead>\n",
       "    <tr style=\"text-align: right;\">\n",
       "      <th></th>\n",
       "      <th>REGION</th>\n",
       "      <th>CÓDIGO DANE DEL DEPARTAMENTO</th>\n",
       "      <th>DEPARTAMENTO</th>\n",
       "      <th>CÓDIGO DANE DEL MUNICIPIO</th>\n",
       "      <th>MUNICIPIO</th>\n",
       "    </tr>\n",
       "  </thead>\n",
       "  <tbody>\n",
       "    <tr>\n",
       "      <th>0</th>\n",
       "      <td>Región Eje Cafetero - Antioquia</td>\n",
       "      <td>5</td>\n",
       "      <td>Antioquia</td>\n",
       "      <td>5.001</td>\n",
       "      <td>Medellín</td>\n",
       "    </tr>\n",
       "    <tr>\n",
       "      <th>1</th>\n",
       "      <td>Región Eje Cafetero - Antioquia</td>\n",
       "      <td>5</td>\n",
       "      <td>Antioquia</td>\n",
       "      <td>5.002</td>\n",
       "      <td>Abejorral</td>\n",
       "    </tr>\n",
       "    <tr>\n",
       "      <th>2</th>\n",
       "      <td>Región Eje Cafetero - Antioquia</td>\n",
       "      <td>5</td>\n",
       "      <td>Antioquia</td>\n",
       "      <td>5.004</td>\n",
       "      <td>Abriaquí</td>\n",
       "    </tr>\n",
       "    <tr>\n",
       "      <th>3</th>\n",
       "      <td>Región Eje Cafetero - Antioquia</td>\n",
       "      <td>5</td>\n",
       "      <td>Antioquia</td>\n",
       "      <td>5.021</td>\n",
       "      <td>Alejandría</td>\n",
       "    </tr>\n",
       "    <tr>\n",
       "      <th>4</th>\n",
       "      <td>Región Eje Cafetero - Antioquia</td>\n",
       "      <td>5</td>\n",
       "      <td>Antioquia</td>\n",
       "      <td>5.030</td>\n",
       "      <td>Amagá</td>\n",
       "    </tr>\n",
       "  </tbody>\n",
       "</table>\n",
       "</div>"
      ],
      "text/plain": [
       "                            REGION  CÓDIGO DANE DEL DEPARTAMENTO DEPARTAMENTO  \\\n",
       "0  Región Eje Cafetero - Antioquia                             5    Antioquia   \n",
       "1  Región Eje Cafetero - Antioquia                             5    Antioquia   \n",
       "2  Región Eje Cafetero - Antioquia                             5    Antioquia   \n",
       "3  Región Eje Cafetero - Antioquia                             5    Antioquia   \n",
       "4  Región Eje Cafetero - Antioquia                             5    Antioquia   \n",
       "\n",
       "   CÓDIGO DANE DEL MUNICIPIO   MUNICIPIO  \n",
       "0                      5.001    Medellín  \n",
       "1                      5.002   Abejorral  \n",
       "2                      5.004    Abriaquí  \n",
       "3                      5.021  Alejandría  \n",
       "4                      5.030       Amagá  "
      ]
     },
     "execution_count": 4,
     "metadata": {},
     "output_type": "execute_result"
    }
   ],
   "source": [
    "datos.head()"
   ]
  },
  {
   "cell_type": "code",
   "execution_count": 6,
   "metadata": {},
   "outputs": [
    {
     "data": {
      "text/html": [
       "<div>\n",
       "<style scoped>\n",
       "    .dataframe tbody tr th:only-of-type {\n",
       "        vertical-align: middle;\n",
       "    }\n",
       "\n",
       "    .dataframe tbody tr th {\n",
       "        vertical-align: top;\n",
       "    }\n",
       "\n",
       "    .dataframe thead th {\n",
       "        text-align: right;\n",
       "    }\n",
       "</style>\n",
       "<table border=\"1\" class=\"dataframe\">\n",
       "  <thead>\n",
       "    <tr style=\"text-align: right;\">\n",
       "      <th></th>\n",
       "      <th>REGION</th>\n",
       "      <th>CÓDIGO DANE DEL DEPARTAMENTO</th>\n",
       "      <th>DEPARTAMENTO</th>\n",
       "      <th>CÓDIGO DANE DEL MUNICIPIO</th>\n",
       "      <th>MUNICIPIO</th>\n",
       "    </tr>\n",
       "  </thead>\n",
       "  <tbody>\n",
       "    <tr>\n",
       "      <th>1118</th>\n",
       "      <td>Región Eje Cafetero - Antioquia</td>\n",
       "      <td>17</td>\n",
       "      <td>Caldas</td>\n",
       "      <td>17.444</td>\n",
       "      <td>Marquetalia</td>\n",
       "    </tr>\n",
       "    <tr>\n",
       "      <th>1119</th>\n",
       "      <td>Región Pacífico</td>\n",
       "      <td>52</td>\n",
       "      <td>Nariño</td>\n",
       "      <td>52.051</td>\n",
       "      <td>Arboleda</td>\n",
       "    </tr>\n",
       "    <tr>\n",
       "      <th>1120</th>\n",
       "      <td>Región Pacífico</td>\n",
       "      <td>76</td>\n",
       "      <td>Valle del Cauca</td>\n",
       "      <td>76.109</td>\n",
       "      <td>Buenaventura</td>\n",
       "    </tr>\n",
       "    <tr>\n",
       "      <th>1121</th>\n",
       "      <td>Región Caribe</td>\n",
       "      <td>47</td>\n",
       "      <td>Magdalena</td>\n",
       "      <td>47.189</td>\n",
       "      <td>Ciénaga</td>\n",
       "    </tr>\n",
       "    <tr>\n",
       "      <th>1122</th>\n",
       "      <td>Región Caribe</td>\n",
       "      <td>8</td>\n",
       "      <td>Atlántico</td>\n",
       "      <td>8.560</td>\n",
       "      <td>Ponedera</td>\n",
       "    </tr>\n",
       "  </tbody>\n",
       "</table>\n",
       "</div>"
      ],
      "text/plain": [
       "                               REGION  CÓDIGO DANE DEL DEPARTAMENTO  \\\n",
       "1118  Región Eje Cafetero - Antioquia                            17   \n",
       "1119                  Región Pacífico                            52   \n",
       "1120                  Región Pacífico                            76   \n",
       "1121                    Región Caribe                            47   \n",
       "1122                    Región Caribe                             8   \n",
       "\n",
       "         DEPARTAMENTO  CÓDIGO DANE DEL MUNICIPIO     MUNICIPIO  \n",
       "1118           Caldas                     17.444   Marquetalia  \n",
       "1119           Nariño                     52.051      Arboleda  \n",
       "1120  Valle del Cauca                     76.109  Buenaventura  \n",
       "1121        Magdalena                     47.189       Ciénaga  \n",
       "1122        Atlántico                      8.560      Ponedera  "
      ]
     },
     "execution_count": 6,
     "metadata": {},
     "output_type": "execute_result"
    }
   ],
   "source": [
    "datos.tail()"
   ]
  },
  {
   "cell_type": "code",
   "execution_count": 8,
   "metadata": {},
   "outputs": [
    {
     "data": {
      "text/html": [
       "<div>\n",
       "<style scoped>\n",
       "    .dataframe tbody tr th:only-of-type {\n",
       "        vertical-align: middle;\n",
       "    }\n",
       "\n",
       "    .dataframe tbody tr th {\n",
       "        vertical-align: top;\n",
       "    }\n",
       "\n",
       "    .dataframe thead th {\n",
       "        text-align: right;\n",
       "    }\n",
       "</style>\n",
       "<table border=\"1\" class=\"dataframe\">\n",
       "  <thead>\n",
       "    <tr style=\"text-align: right;\">\n",
       "      <th></th>\n",
       "      <th>CÓDIGO DANE DEL DEPARTAMENTO</th>\n",
       "      <th>CÓDIGO DANE DEL MUNICIPIO</th>\n",
       "    </tr>\n",
       "  </thead>\n",
       "  <tbody>\n",
       "    <tr>\n",
       "      <th>count</th>\n",
       "      <td>1123.000000</td>\n",
       "      <td>1123.000000</td>\n",
       "    </tr>\n",
       "    <tr>\n",
       "      <th>mean</th>\n",
       "      <td>38.272484</td>\n",
       "      <td>38.706054</td>\n",
       "    </tr>\n",
       "    <tr>\n",
       "      <th>std</th>\n",
       "      <td>26.578552</td>\n",
       "      <td>26.565327</td>\n",
       "    </tr>\n",
       "    <tr>\n",
       "      <th>min</th>\n",
       "      <td>5.000000</td>\n",
       "      <td>5.001000</td>\n",
       "    </tr>\n",
       "    <tr>\n",
       "      <th>25%</th>\n",
       "      <td>15.000000</td>\n",
       "      <td>15.678500</td>\n",
       "    </tr>\n",
       "    <tr>\n",
       "      <th>50%</th>\n",
       "      <td>25.000000</td>\n",
       "      <td>25.841000</td>\n",
       "    </tr>\n",
       "    <tr>\n",
       "      <th>75%</th>\n",
       "      <td>66.000000</td>\n",
       "      <td>66.514000</td>\n",
       "    </tr>\n",
       "    <tr>\n",
       "      <th>max</th>\n",
       "      <td>99.000000</td>\n",
       "      <td>99.773000</td>\n",
       "    </tr>\n",
       "  </tbody>\n",
       "</table>\n",
       "</div>"
      ],
      "text/plain": [
       "       CÓDIGO DANE DEL DEPARTAMENTO  CÓDIGO DANE DEL MUNICIPIO\n",
       "count                   1123.000000                1123.000000\n",
       "mean                      38.272484                  38.706054\n",
       "std                       26.578552                  26.565327\n",
       "min                        5.000000                   5.001000\n",
       "25%                       15.000000                  15.678500\n",
       "50%                       25.000000                  25.841000\n",
       "75%                       66.000000                  66.514000\n",
       "max                       99.000000                  99.773000"
      ]
     },
     "execution_count": 8,
     "metadata": {},
     "output_type": "execute_result"
    }
   ],
   "source": [
    "datos.describe()"
   ]
  },
  {
   "cell_type": "code",
   "execution_count": 9,
   "metadata": {},
   "outputs": [
    {
     "name": "stdout",
     "output_type": "stream",
     "text": [
      "<class 'pandas.core.frame.DataFrame'>\n",
      "RangeIndex: 1123 entries, 0 to 1122\n",
      "Data columns (total 5 columns):\n",
      " #   Column                        Non-Null Count  Dtype  \n",
      "---  ------                        --------------  -----  \n",
      " 0   REGION                        1123 non-null   object \n",
      " 1   CÓDIGO DANE DEL DEPARTAMENTO  1123 non-null   int64  \n",
      " 2   DEPARTAMENTO                  1123 non-null   object \n",
      " 3   CÓDIGO DANE DEL MUNICIPIO     1123 non-null   float64\n",
      " 4   MUNICIPIO                     1123 non-null   object \n",
      "dtypes: float64(1), int64(1), object(3)\n",
      "memory usage: 44.0+ KB\n"
     ]
    }
   ],
   "source": [
    "datos.info()"
   ]
  },
  {
   "cell_type": "code",
   "execution_count": 11,
   "metadata": {},
   "outputs": [
    {
     "data": {
      "text/plain": [
       "DEPARTAMENTO\n",
       "Antioquia                                                   125\n",
       "Boyacá                                                      123\n",
       "Cundinamarca                                                116\n",
       "Santander                                                    87\n",
       "Nariño                                                       64\n",
       "Tolima                                                       47\n",
       "Bolívar                                                      46\n",
       "Cauca                                                        42\n",
       "Valle del Cauca                                              42\n",
       "Norte de Santander                                           40\n",
       "Huila                                                        37\n",
       "Chocó                                                        31\n",
       "Magdalena                                                    30\n",
       "Córdoba                                                      30\n",
       "Meta                                                         29\n",
       "Caldas                                                       27\n",
       "Sucre                                                        26\n",
       "Cesar                                                        25\n",
       "Atlántico                                                    23\n",
       "Casanare                                                     19\n",
       "Caquetá                                                      16\n",
       "La Guajira                                                   15\n",
       "Risaralda                                                    14\n",
       "Putumayo                                                     13\n",
       "Quindío                                                      12\n",
       "Amazonas                                                     11\n",
       "Guainía                                                       9\n",
       "Arauca                                                        7\n",
       "Vaupés                                                        6\n",
       "Vichada                                                       4\n",
       "Guaviare                                                      4\n",
       "Archipiélago de San Andrés, Providencia y Santa Catalina      2\n",
       "Bogotá D.C.                                                   1\n",
       "Name: count, dtype: int64"
      ]
     },
     "execution_count": 11,
     "metadata": {},
     "output_type": "execute_result"
    }
   ],
   "source": [
    "datos['DEPARTAMENTO'].value_counts()"
   ]
  },
  {
   "cell_type": "code",
   "execution_count": 13,
   "metadata": {},
   "outputs": [
    {
     "data": {
      "text/plain": [
       "MUNICIPIO\n",
       "La Unión            4\n",
       "Villanueva          4\n",
       "Sucre               3\n",
       "San Francisco       3\n",
       "Córdoba             3\n",
       "                   ..\n",
       "Planeta Rica        1\n",
       "Pueblo Nuevo        1\n",
       "Puerto Escondido    1\n",
       "Purísima            1\n",
       "Ponedera            1\n",
       "Name: count, Length: 1035, dtype: int64"
      ]
     },
     "execution_count": 13,
     "metadata": {},
     "output_type": "execute_result"
    }
   ],
   "source": [
    "datos['MUNICIPIO'].value_counts()"
   ]
  },
  {
   "cell_type": "code",
   "execution_count": 14,
   "metadata": {},
   "outputs": [],
   "source": [
    "datos.loc[datos['MUNICIPIO'] == 'Bogotá D.C.', 'MUNICIPIO'] = 'Distrito Capital de Bogotá'"
   ]
  },
  {
   "cell_type": "code",
   "execution_count": 20,
   "metadata": {},
   "outputs": [
    {
     "name": "stdout",
     "output_type": "stream",
     "text": [
      "33\n"
     ]
    },
    {
     "data": {
      "text/html": [
       "<div>\n",
       "<style scoped>\n",
       "    .dataframe tbody tr th:only-of-type {\n",
       "        vertical-align: middle;\n",
       "    }\n",
       "\n",
       "    .dataframe tbody tr th {\n",
       "        vertical-align: top;\n",
       "    }\n",
       "\n",
       "    .dataframe thead th {\n",
       "        text-align: right;\n",
       "    }\n",
       "</style>\n",
       "<table border=\"1\" class=\"dataframe\">\n",
       "  <thead>\n",
       "    <tr style=\"text-align: right;\">\n",
       "      <th></th>\n",
       "      <th>REGION</th>\n",
       "      <th>CÓDIGO DANE DEL DEPARTAMENTO</th>\n",
       "      <th>DEPARTAMENTO</th>\n",
       "    </tr>\n",
       "  </thead>\n",
       "  <tbody>\n",
       "    <tr>\n",
       "      <th>0</th>\n",
       "      <td>Región Eje Cafetero - Antioquia</td>\n",
       "      <td>5</td>\n",
       "      <td>Antioquia</td>\n",
       "    </tr>\n",
       "    <tr>\n",
       "      <th>10</th>\n",
       "      <td>Región Centro Oriente</td>\n",
       "      <td>15</td>\n",
       "      <td>Boyacá</td>\n",
       "    </tr>\n",
       "    <tr>\n",
       "      <th>47</th>\n",
       "      <td>Región Caribe</td>\n",
       "      <td>23</td>\n",
       "      <td>Córdoba</td>\n",
       "    </tr>\n",
       "    <tr>\n",
       "      <th>51</th>\n",
       "      <td>Región Pacífico</td>\n",
       "      <td>27</td>\n",
       "      <td>Chocó</td>\n",
       "    </tr>\n",
       "    <tr>\n",
       "      <th>88</th>\n",
       "      <td>Región Pacífico</td>\n",
       "      <td>52</td>\n",
       "      <td>Nariño</td>\n",
       "    </tr>\n",
       "  </tbody>\n",
       "</table>\n",
       "</div>"
      ],
      "text/plain": [
       "                             REGION  CÓDIGO DANE DEL DEPARTAMENTO DEPARTAMENTO\n",
       "0   Región Eje Cafetero - Antioquia                             5    Antioquia\n",
       "10            Región Centro Oriente                            15       Boyacá\n",
       "47                    Región Caribe                            23      Córdoba\n",
       "51                  Región Pacífico                            27        Chocó\n",
       "88                  Región Pacífico                            52       Nariño"
      ]
     },
     "execution_count": 20,
     "metadata": {},
     "output_type": "execute_result"
    }
   ],
   "source": [
    "departamentos = datos[['REGION', 'CÓDIGO DANE DEL DEPARTAMENTO', 'DEPARTAMENTO']]\n",
    "departamentos = departamentos.drop_duplicates(subset='DEPARTAMENTO')\n",
    "print(len(departamentos))\n",
    "departamentos.head()"
   ]
  },
  {
   "cell_type": "code",
   "execution_count": 21,
   "metadata": {},
   "outputs": [
    {
     "data": {
      "text/html": [
       "<div>\n",
       "<style scoped>\n",
       "    .dataframe tbody tr th:only-of-type {\n",
       "        vertical-align: middle;\n",
       "    }\n",
       "\n",
       "    .dataframe tbody tr th {\n",
       "        vertical-align: top;\n",
       "    }\n",
       "\n",
       "    .dataframe thead th {\n",
       "        text-align: right;\n",
       "    }\n",
       "</style>\n",
       "<table border=\"1\" class=\"dataframe\">\n",
       "  <thead>\n",
       "    <tr style=\"text-align: right;\">\n",
       "      <th></th>\n",
       "      <th>CÓDIGO DANE DEL DEPARTAMENTO</th>\n",
       "      <th>CÓDIGO DANE DEL MUNICIPIO</th>\n",
       "      <th>MUNICIPIO</th>\n",
       "    </tr>\n",
       "  </thead>\n",
       "  <tbody>\n",
       "    <tr>\n",
       "      <th>0</th>\n",
       "      <td>5</td>\n",
       "      <td>5.001</td>\n",
       "      <td>Medellín</td>\n",
       "    </tr>\n",
       "    <tr>\n",
       "      <th>1</th>\n",
       "      <td>5</td>\n",
       "      <td>5.002</td>\n",
       "      <td>Abejorral</td>\n",
       "    </tr>\n",
       "    <tr>\n",
       "      <th>2</th>\n",
       "      <td>5</td>\n",
       "      <td>5.004</td>\n",
       "      <td>Abriaquí</td>\n",
       "    </tr>\n",
       "    <tr>\n",
       "      <th>3</th>\n",
       "      <td>5</td>\n",
       "      <td>5.021</td>\n",
       "      <td>Alejandría</td>\n",
       "    </tr>\n",
       "    <tr>\n",
       "      <th>4</th>\n",
       "      <td>5</td>\n",
       "      <td>5.030</td>\n",
       "      <td>Amagá</td>\n",
       "    </tr>\n",
       "  </tbody>\n",
       "</table>\n",
       "</div>"
      ],
      "text/plain": [
       "   CÓDIGO DANE DEL DEPARTAMENTO  CÓDIGO DANE DEL MUNICIPIO   MUNICIPIO\n",
       "0                             5                      5.001    Medellín\n",
       "1                             5                      5.002   Abejorral\n",
       "2                             5                      5.004    Abriaquí\n",
       "3                             5                      5.021  Alejandría\n",
       "4                             5                      5.030       Amagá"
      ]
     },
     "execution_count": 21,
     "metadata": {},
     "output_type": "execute_result"
    }
   ],
   "source": [
    "municipios = datos[['CÓDIGO DANE DEL DEPARTAMENTO', 'CÓDIGO DANE DEL MUNICIPIO', 'MUNICIPIO']]\n",
    "municipios.head()"
   ]
  },
  {
   "cell_type": "code",
   "execution_count": 23,
   "metadata": {},
   "outputs": [
    {
     "data": {
      "text/html": [
       "<div>\n",
       "<style scoped>\n",
       "    .dataframe tbody tr th:only-of-type {\n",
       "        vertical-align: middle;\n",
       "    }\n",
       "\n",
       "    .dataframe tbody tr th {\n",
       "        vertical-align: top;\n",
       "    }\n",
       "\n",
       "    .dataframe thead th {\n",
       "        text-align: right;\n",
       "    }\n",
       "</style>\n",
       "<table border=\"1\" class=\"dataframe\">\n",
       "  <thead>\n",
       "    <tr style=\"text-align: right;\">\n",
       "      <th></th>\n",
       "      <th>REGION</th>\n",
       "      <th>CÓDIGO DANE DEL DEPARTAMENTO</th>\n",
       "      <th>DEPARTAMENTO</th>\n",
       "    </tr>\n",
       "  </thead>\n",
       "  <tbody>\n",
       "    <tr>\n",
       "      <th>47</th>\n",
       "      <td>Región Caribe</td>\n",
       "      <td>23</td>\n",
       "      <td>Córdoba</td>\n",
       "    </tr>\n",
       "    <tr>\n",
       "      <th>121</th>\n",
       "      <td>Región Caribe</td>\n",
       "      <td>8</td>\n",
       "      <td>Atlántico</td>\n",
       "    </tr>\n",
       "    <tr>\n",
       "      <th>138</th>\n",
       "      <td>Región Caribe</td>\n",
       "      <td>13</td>\n",
       "      <td>Bolívar</td>\n",
       "    </tr>\n",
       "    <tr>\n",
       "      <th>353</th>\n",
       "      <td>Región Caribe</td>\n",
       "      <td>20</td>\n",
       "      <td>Cesar</td>\n",
       "    </tr>\n",
       "    <tr>\n",
       "      <th>555</th>\n",
       "      <td>Región Caribe</td>\n",
       "      <td>44</td>\n",
       "      <td>La Guajira</td>\n",
       "    </tr>\n",
       "    <tr>\n",
       "      <th>568</th>\n",
       "      <td>Región Caribe</td>\n",
       "      <td>47</td>\n",
       "      <td>Magdalena</td>\n",
       "    </tr>\n",
       "    <tr>\n",
       "      <th>766</th>\n",
       "      <td>Región Caribe</td>\n",
       "      <td>70</td>\n",
       "      <td>Sucre</td>\n",
       "    </tr>\n",
       "    <tr>\n",
       "      <th>915</th>\n",
       "      <td>Región Caribe</td>\n",
       "      <td>88</td>\n",
       "      <td>Archipiélago de San Andrés, Providencia y Sant...</td>\n",
       "    </tr>\n",
       "  </tbody>\n",
       "</table>\n",
       "</div>"
      ],
      "text/plain": [
       "            REGION  CÓDIGO DANE DEL DEPARTAMENTO  \\\n",
       "47   Región Caribe                            23   \n",
       "121  Región Caribe                             8   \n",
       "138  Región Caribe                            13   \n",
       "353  Región Caribe                            20   \n",
       "555  Región Caribe                            44   \n",
       "568  Región Caribe                            47   \n",
       "766  Región Caribe                            70   \n",
       "915  Región Caribe                            88   \n",
       "\n",
       "                                          DEPARTAMENTO  \n",
       "47                                             Córdoba  \n",
       "121                                          Atlántico  \n",
       "138                                            Bolívar  \n",
       "353                                              Cesar  \n",
       "555                                         La Guajira  \n",
       "568                                          Magdalena  \n",
       "766                                              Sucre  \n",
       "915  Archipiélago de San Andrés, Providencia y Sant...  "
      ]
     },
     "execution_count": 23,
     "metadata": {},
     "output_type": "execute_result"
    }
   ],
   "source": [
    "departamentos_caribe = departamentos[departamentos['REGION'] == 'Región Caribe']\n",
    "departamentos_caribe"
   ]
  },
  {
   "cell_type": "code",
   "execution_count": 26,
   "metadata": {},
   "outputs": [
    {
     "data": {
      "text/html": [
       "<div>\n",
       "<style scoped>\n",
       "    .dataframe tbody tr th:only-of-type {\n",
       "        vertical-align: middle;\n",
       "    }\n",
       "\n",
       "    .dataframe tbody tr th {\n",
       "        vertical-align: top;\n",
       "    }\n",
       "\n",
       "    .dataframe thead th {\n",
       "        text-align: right;\n",
       "    }\n",
       "</style>\n",
       "<table border=\"1\" class=\"dataframe\">\n",
       "  <thead>\n",
       "    <tr style=\"text-align: right;\">\n",
       "      <th></th>\n",
       "      <th>CÓDIGO DANE DEL DEPARTAMENTO</th>\n",
       "      <th>CÓDIGO DANE DEL MUNICIPIO</th>\n",
       "      <th>MUNICIPIO</th>\n",
       "    </tr>\n",
       "  </thead>\n",
       "  <tbody>\n",
       "    <tr>\n",
       "      <th>1</th>\n",
       "      <td>5</td>\n",
       "      <td>5.002</td>\n",
       "      <td>Abejorral</td>\n",
       "    </tr>\n",
       "    <tr>\n",
       "      <th>2</th>\n",
       "      <td>5</td>\n",
       "      <td>5.004</td>\n",
       "      <td>Abriaquí</td>\n",
       "    </tr>\n",
       "    <tr>\n",
       "      <th>3</th>\n",
       "      <td>5</td>\n",
       "      <td>5.021</td>\n",
       "      <td>Alejandría</td>\n",
       "    </tr>\n",
       "    <tr>\n",
       "      <th>4</th>\n",
       "      <td>5</td>\n",
       "      <td>5.030</td>\n",
       "      <td>Amagá</td>\n",
       "    </tr>\n",
       "    <tr>\n",
       "      <th>5</th>\n",
       "      <td>5</td>\n",
       "      <td>5.031</td>\n",
       "      <td>Amalfi</td>\n",
       "    </tr>\n",
       "    <tr>\n",
       "      <th>...</th>\n",
       "      <td>...</td>\n",
       "      <td>...</td>\n",
       "      <td>...</td>\n",
       "    </tr>\n",
       "    <tr>\n",
       "      <th>1036</th>\n",
       "      <td>76</td>\n",
       "      <td>76.020</td>\n",
       "      <td>Alcalá</td>\n",
       "    </tr>\n",
       "    <tr>\n",
       "      <th>1053</th>\n",
       "      <td>25</td>\n",
       "      <td>25.019</td>\n",
       "      <td>Albán</td>\n",
       "    </tr>\n",
       "    <tr>\n",
       "      <th>1062</th>\n",
       "      <td>25</td>\n",
       "      <td>25.040</td>\n",
       "      <td>Anolaima</td>\n",
       "    </tr>\n",
       "    <tr>\n",
       "      <th>1067</th>\n",
       "      <td>73</td>\n",
       "      <td>73.043</td>\n",
       "      <td>Anzoátegui</td>\n",
       "    </tr>\n",
       "    <tr>\n",
       "      <th>1119</th>\n",
       "      <td>52</td>\n",
       "      <td>52.051</td>\n",
       "      <td>Arboleda</td>\n",
       "    </tr>\n",
       "  </tbody>\n",
       "</table>\n",
       "<p>75 rows × 3 columns</p>\n",
       "</div>"
      ],
      "text/plain": [
       "      CÓDIGO DANE DEL DEPARTAMENTO  CÓDIGO DANE DEL MUNICIPIO   MUNICIPIO\n",
       "1                                5                      5.002   Abejorral\n",
       "2                                5                      5.004    Abriaquí\n",
       "3                                5                      5.021  Alejandría\n",
       "4                                5                      5.030       Amagá\n",
       "5                                5                      5.031      Amalfi\n",
       "...                            ...                        ...         ...\n",
       "1036                            76                     76.020      Alcalá\n",
       "1053                            25                     25.019       Albán\n",
       "1062                            25                     25.040    Anolaima\n",
       "1067                            73                     73.043  Anzoátegui\n",
       "1119                            52                     52.051    Arboleda\n",
       "\n",
       "[75 rows x 3 columns]"
      ]
     },
     "execution_count": 26,
     "metadata": {},
     "output_type": "execute_result"
    }
   ],
   "source": [
    "municipios_a = municipios[municipios['MUNICIPIO'].str.startswith('A')]\n",
    "municipios_a"
   ]
  },
  {
   "cell_type": "code",
   "execution_count": 27,
   "metadata": {},
   "outputs": [
    {
     "name": "stdout",
     "output_type": "stream",
     "text": [
      "departamentos_caribe: 8\n"
     ]
    }
   ],
   "source": [
    "print('departamentos_caribe:', len(departamentos_caribe))"
   ]
  },
  {
   "cell_type": "code",
   "execution_count": 28,
   "metadata": {},
   "outputs": [
    {
     "name": "stdout",
     "output_type": "stream",
     "text": [
      "municipios_a: (75, 3)\n"
     ]
    }
   ],
   "source": [
    "print('municipios_a:', municipios_a.shape)"
   ]
  },
  {
   "cell_type": "code",
   "execution_count": 34,
   "metadata": {},
   "outputs": [
    {
     "data": {
      "text/plain": [
       "_merge\n",
       "both          13\n",
       "left_only      0\n",
       "right_only     0\n",
       "Name: count, dtype: int64"
      ]
     },
     "execution_count": 34,
     "metadata": {},
     "output_type": "execute_result"
    }
   ],
   "source": [
    "municipio_del_caribe_con_a_inner = pd.merge(left=departamentos_caribe, right=municipios_a, how='inner',\n",
    "                                            left_on='CÓDIGO DANE DEL DEPARTAMENTO',\n",
    "                                            right_on='CÓDIGO DANE DEL DEPARTAMENTO',\n",
    "                                            indicator=True)\n",
    "municipio_del_caribe_con_a_inner['_merge'].value_counts()"
   ]
  },
  {
   "cell_type": "code",
   "execution_count": 33,
   "metadata": {},
   "outputs": [
    {
     "data": {
      "text/plain": [
       "_merge\n",
       "both          13\n",
       "left_only      3\n",
       "right_only     0\n",
       "Name: count, dtype: int64"
      ]
     },
     "execution_count": 33,
     "metadata": {},
     "output_type": "execute_result"
    }
   ],
   "source": [
    "municipio_del_caribe_con_a_left = pd.merge(left=departamentos_caribe, right=municipios_a, how='left',\n",
    "                                            left_on='CÓDIGO DANE DEL DEPARTAMENTO',\n",
    "                                            right_on='CÓDIGO DANE DEL DEPARTAMENTO',\n",
    "                                            indicator=True)\n",
    "municipio_del_caribe_con_a_left['_merge'].value_counts()"
   ]
  },
  {
   "cell_type": "code",
   "execution_count": 32,
   "metadata": {},
   "outputs": [
    {
     "data": {
      "text/plain": [
       "_merge\n",
       "right_only    62\n",
       "both          13\n",
       "left_only      0\n",
       "Name: count, dtype: int64"
      ]
     },
     "execution_count": 32,
     "metadata": {},
     "output_type": "execute_result"
    }
   ],
   "source": [
    "municipio_del_caribe_con_a_right = pd.merge(left=departamentos_caribe, right=municipios_a, how='right',\n",
    "                                            left_on='CÓDIGO DANE DEL DEPARTAMENTO',\n",
    "                                            right_on='CÓDIGO DANE DEL DEPARTAMENTO',\n",
    "                                            indicator=True)\n",
    "municipio_del_caribe_con_a_right['_merge'].value_counts()"
   ]
  },
  {
   "cell_type": "code",
   "execution_count": 35,
   "metadata": {},
   "outputs": [
    {
     "data": {
      "text/plain": [
       "_merge\n",
       "right_only    62\n",
       "both          13\n",
       "left_only      3\n",
       "Name: count, dtype: int64"
      ]
     },
     "execution_count": 35,
     "metadata": {},
     "output_type": "execute_result"
    }
   ],
   "source": [
    "municipio_del_caribe_con_a_outer = pd.merge(left=departamentos_caribe, right=municipios_a, how='outer',\n",
    "                                            left_on='CÓDIGO DANE DEL DEPARTAMENTO',\n",
    "                                            right_on='CÓDIGO DANE DEL DEPARTAMENTO',\n",
    "                                            indicator=True)\n",
    "municipio_del_caribe_con_a_outer['_merge'].value_counts()"
   ]
  }
 ],
 "metadata": {
  "kernelspec": {
   "display_name": "Python 3",
   "language": "python",
   "name": "python3"
  },
  "language_info": {
   "codemirror_mode": {
    "name": "ipython",
    "version": 3
   },
   "file_extension": ".py",
   "mimetype": "text/x-python",
   "name": "python",
   "nbconvert_exporter": "python",
   "pygments_lexer": "ipython3",
   "version": "3.11.9"
  }
 },
 "nbformat": 4,
 "nbformat_minor": 2
}
