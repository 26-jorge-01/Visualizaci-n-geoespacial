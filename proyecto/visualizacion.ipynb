{
 "cells": [
  {
   "cell_type": "code",
   "execution_count": 2,
   "metadata": {},
   "outputs": [],
   "source": [
    "import requests\n",
    "import geopandas as gpd\n",
    "import folium"
   ]
  },
  {
   "cell_type": "code",
   "execution_count": 3,
   "metadata": {},
   "outputs": [
    {
     "name": "stdout",
     "output_type": "stream",
     "text": [
      "{'coord': {'lon': -74.0817, 'lat': 4.6097}, 'weather': [{'id': 701, 'main': 'Mist', 'description': 'mist', 'icon': '50d'}], 'base': 'stations', 'main': {'temp': 10.32, 'feels_like': 10.02, 'temp_min': 9.7, 'temp_max': 10.93, 'pressure': 1019, 'humidity': 100, 'sea_level': 1019, 'grnd_level': 738}, 'visibility': 5000, 'wind': {'speed': 1.03, 'deg': 0}, 'clouds': {'all': 75}, 'dt': 1732103193, 'sys': {'type': 1, 'id': 8582, 'country': 'CO', 'sunrise': 1732099522, 'sunset': 1732142348}, 'timezone': -18000, 'id': 3688689, 'name': 'Bogota', 'cod': 200}\n"
     ]
    }
   ],
   "source": [
    "# Parámetros para la API\n",
    "api_key = \"ad6e06e230f7307598923265cf881c17\"\n",
    "cities = [\"Bogotá\", \"Medellín\", \"Cali\", \"Barranquilla\"]  # Ciudades objetivo\n",
    "base_url = \"http://api.openweathermap.org/data/2.5/weather\"\n",
    "\n",
    "# Obtener datos para una ciudad\n",
    "params = {\"q\": \"Bogotá\", \"appid\": api_key, \"units\": \"metric\"}\n",
    "response = requests.get(base_url, params=params)\n",
    "data = response.json()\n",
    "\n",
    "print(data)  # Explorar los datos obtenidos"
   ]
  },
  {
   "cell_type": "code",
   "execution_count": 15,
   "metadata": {},
   "outputs": [],
   "source": [
    "def get_city_weather(city, api_key):\n",
    "    params = {\"q\": city, \"appid\": api_key, \"units\": \"metric\"}\n",
    "    response = requests.get(base_url, params=params)\n",
    "    if response.status_code == 200:\n",
    "        data = response.json()\n",
    "        return {\n",
    "            \"city\": data[\"name\"],\n",
    "            \"lat\": data[\"coord\"][\"lat\"],\n",
    "            \"lon\": data[\"coord\"][\"lon\"],\n",
    "            \"temp\": data[\"main\"][\"temp\"],\n",
    "            \"humidity\": data[\"main\"][\"humidity\"],\n",
    "            \"weather\": data[\"weather\"][0][\"description\"].capitalize(),\n",
    "            \"wind_speed\": data[\"wind\"][\"speed\"],\n",
    "            \"icon\": data[\"weather\"][0][\"icon\"]\n",
    "        }\n",
    "    else:\n",
    "        print(f\"Error al obtener datos para {city}\")\n",
    "        return None"
   ]
  },
  {
   "cell_type": "code",
   "execution_count": 16,
   "metadata": {},
   "outputs": [
    {
     "name": "stdout",
     "output_type": "stream",
     "text": [
      "[{'city': 'Bogota', 'lat': 4.6097, 'lon': -74.0817, 'temp': 10.32, 'humidity': 100, 'weather': 'Mist', 'wind_speed': 1.03, 'icon': '50d'}, {'city': 'Medellín', 'lat': 6.2518, 'lon': -75.5636, 'temp': 15.93, 'humidity': 99, 'weather': 'Mist', 'wind_speed': 4.92, 'icon': '50d'}, {'city': 'Santiago de Cali', 'lat': 3.4372, 'lon': -76.5225, 'temp': 18.58, 'humidity': 97, 'weather': 'Mist', 'wind_speed': 2.06, 'icon': '50d'}, {'city': 'Barranquilla', 'lat': 10.9639, 'lon': -74.7964, 'temp': 21.88, 'humidity': 100, 'weather': 'Few clouds', 'wind_speed': 2.06, 'icon': '02d'}]\n"
     ]
    }
   ],
   "source": [
    "weather_data = [get_city_weather(city, api_key) for city in cities if get_city_weather(city, api_key)]\n",
    "print(weather_data)"
   ]
  },
  {
   "cell_type": "code",
   "execution_count": 32,
   "metadata": {},
   "outputs": [],
   "source": [
    "# Coordenadas aproximadas de Colombia\n",
    "center_coords = [4.570868, -74.297333]\n",
    "map_base = folium.Map(location=center_coords, zoom_start=6)"
   ]
  },
  {
   "cell_type": "code",
   "execution_count": 33,
   "metadata": {},
   "outputs": [],
   "source": [
    "for city in weather_data:\n",
    "    folium.Marker(\n",
    "        location=[city[\"lat\"], city[\"lon\"]],\n",
    "        popup=f\"{city['city']}: {city['temp']} °C\",\n",
    "        icon=folium.Icon(color=\"blue\", icon=\"info-sign\")\n",
    "    ).add_to(map_base)"
   ]
  },
  {
   "cell_type": "code",
   "execution_count": 19,
   "metadata": {},
   "outputs": [],
   "source": [
    "map_base.save(\"mapa_clima_inicial.html\")"
   ]
  },
  {
   "cell_type": "code",
   "execution_count": 34,
   "metadata": {},
   "outputs": [],
   "source": [
    "def update_map(api_key, cities):\n",
    "    map_base = folium.Map(location=center_coords, zoom_start=6)\n",
    "    weather_data = [get_city_weather(city, api_key) for city in cities if get_city_weather(city, api_key)]\n",
    "    for city in weather_data:\n",
    "        folium.Marker(\n",
    "            location=[city[\"lat\"], city[\"lon\"]],\n",
    "            popup=f\"{city['city']}: {city['temp']} °C\",\n",
    "            icon=folium.Icon(color=\"blue\", icon=\"info-sign\")\n",
    "        ).add_to(map_base)\n",
    "    map_base.save(\"mapa_clima_actualizado.html\")\n",
    "    print(\"Mapa actualizado\")"
   ]
  },
  {
   "cell_type": "code",
   "execution_count": 35,
   "metadata": {},
   "outputs": [
    {
     "name": "stdout",
     "output_type": "stream",
     "text": [
      "Mapa actualizado\n"
     ]
    }
   ],
   "source": [
    "update_map(api_key, cities)"
   ]
  },
  {
   "cell_type": "code",
   "execution_count": 36,
   "metadata": {},
   "outputs": [
    {
     "data": {
      "text/plain": [
       "<folium.map.LayerControl at 0x14cc26faf50>"
      ]
     },
     "execution_count": 36,
     "metadata": {},
     "output_type": "execute_result"
    }
   ],
   "source": [
    "# Añadir capas de fondo con atribuciones\n",
    "folium.TileLayer(\n",
    "    'Stamen Terrain',\n",
    "    name='Terreno',\n",
    "    attr='Map tiles by Stamen Design, CC BY 3.0 — Map data © OpenStreetMap'\n",
    ").add_to(map_base)\n",
    "\n",
    "folium.TileLayer(\n",
    "    'Stamen Toner',\n",
    "    name='Toner',\n",
    "    attr='Map tiles by Stamen Design, CC BY 3.0 — Map data © OpenStreetMap'\n",
    ").add_to(map_base)\n",
    "\n",
    "# Añadir control de capas\n",
    "folium.LayerControl().add_to(map_base)"
   ]
  },
  {
   "cell_type": "code",
   "execution_count": 37,
   "metadata": {},
   "outputs": [],
   "source": [
    "def get_color(temp):\n",
    "    if temp < 10:\n",
    "        return \"blue\"\n",
    "    elif 10 <= temp <= 20:\n",
    "        return \"green\"\n",
    "    elif 20 < temp <= 30:\n",
    "        return \"orange\"\n",
    "    else:\n",
    "        return \"red\"\n",
    "\n",
    "for city in weather_data:\n",
    "    popup_content = f\"\"\"\n",
    "    <h4>{city['city']}</h4>\n",
    "    <b>Temperatura:</b> {city['temp']} °C<br>\n",
    "    <b>Humedad:</b> {city['humidity']}%<br>\n",
    "    <b>Clima:</b> {city['weather']}<br>\n",
    "    <b>Viento:</b> {city['wind_speed']} m/s<br>\n",
    "    <img src=\"http://openweathermap.org/img/wn/{city['icon']}@2x.png\" width=\"50\" height=\"50\">\n",
    "    \"\"\"\n",
    "    folium.Marker(\n",
    "        location=[city[\"lat\"], city[\"lon\"]],\n",
    "        popup=folium.Popup(popup_content, max_width=250),\n",
    "        icon=folium.Icon(color=get_color(city[\"temp\"]), icon=\"info-sign\")\n",
    "    ).add_to(map_base)"
   ]
  },
  {
   "cell_type": "code",
   "execution_count": 38,
   "metadata": {},
   "outputs": [],
   "source": [
    "for city in weather_data:\n",
    "    folium.CircleMarker(\n",
    "        location=[city[\"lat\"], city[\"lon\"]],\n",
    "        radius=city[\"temp\"] / 2,  # Escalar el tamaño del círculo con la temperatura\n",
    "        color=get_color(city[\"temp\"]),\n",
    "        fill=True,\n",
    "        fill_opacity=0.6,\n",
    "        popup=f\"Temperatura: {city['temp']} °C\"\n",
    "    ).add_to(map_base)"
   ]
  },
  {
   "cell_type": "code",
   "execution_count": 39,
   "metadata": {},
   "outputs": [],
   "source": [
    "map_base.save(\"mapa_clima_final.html\")"
   ]
  },
  {
   "cell_type": "code",
   "execution_count": null,
   "metadata": {},
   "outputs": [],
   "source": []
  }
 ],
 "metadata": {
  "kernelspec": {
   "display_name": "Python 3",
   "language": "python",
   "name": "python3"
  },
  "language_info": {
   "codemirror_mode": {
    "name": "ipython",
    "version": 3
   },
   "file_extension": ".py",
   "mimetype": "text/x-python",
   "name": "python",
   "nbconvert_exporter": "python",
   "pygments_lexer": "ipython3",
   "version": "3.11.9"
  }
 },
 "nbformat": 4,
 "nbformat_minor": 2
}
