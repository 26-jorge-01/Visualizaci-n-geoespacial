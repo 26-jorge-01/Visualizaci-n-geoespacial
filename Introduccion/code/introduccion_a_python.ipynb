{
 "cells": [
  {
   "cell_type": "markdown",
   "metadata": {},
   "source": [
    "# Introducción a Python"
   ]
  },
  {
   "cell_type": "markdown",
   "metadata": {},
   "source": [
    "### 1. Uso de comentarios"
   ]
  },
  {
   "cell_type": "code",
   "execution_count": 1,
   "metadata": {},
   "outputs": [],
   "source": [
    "# Esto es un comentario de Python"
   ]
  },
  {
   "cell_type": "markdown",
   "metadata": {},
   "source": [
    "### 2. Variables y tipos de datos"
   ]
  },
  {
   "cell_type": "code",
   "execution_count": 47,
   "metadata": {},
   "outputs": [
    {
     "name": "stdout",
     "output_type": "stream",
     "text": [
      "Esto es una cadena de texto___Esto es otra cadena de texto <class 'str'>\n",
      "Esto es una cadena de texto Esto es otra cadena de texto <class 'str'>\n",
      "27\n",
      "E\n",
      "Esto \n"
     ]
    }
   ],
   "source": [
    "# Cadenas de texto\n",
    "mystr1 = \"Esto es una cadena de texto\"\n",
    "mystr2 = 'Esto es otra cadena de texto'\n",
    "\n",
    "# print(mystr1, type(mystr1))\n",
    "# print(mystr2, type(mystr2))\n",
    "\n",
    "# Concatenar cadenas de texto\n",
    "mystr3 = mystr1 + \"___\" + mystr2\n",
    "print(mystr3, type(mystr3))\n",
    "\n",
    "# Formatear cadenas de texto\n",
    "mystr4 = f\"{mystr1} {mystr2}\"\n",
    "print(mystr4, type(mystr4))\n",
    "\n",
    "# Longitud de una cadena de texto\n",
    "print(len(mystr1))\n",
    "\n",
    "# Obtener una subcadena de una cadena de texto\n",
    "print(mystr1[0])\n",
    "print(mystr1[0:5])"
   ]
  },
  {
   "cell_type": "code",
   "execution_count": 16,
   "metadata": {},
   "outputs": [
    {
     "name": "stdout",
     "output_type": "stream",
     "text": [
      "10 <class 'int'>\n",
      "3.14 <class 'float'>\n",
      "13.14 <class 'float'>\n",
      "7.7\n",
      "19.0\n",
      "3.3333333333333335\n",
      "27\n",
      "4.0\n"
     ]
    }
   ],
   "source": [
    "# Enteros\n",
    "myint = 10\n",
    "\n",
    "print(myint, type(myint))\n",
    "\n",
    "# Flotantes\n",
    "myfloat = 3.14\n",
    "myfloat2 = 3.0\n",
    "\n",
    "print(myfloat, type(myfloat))\n",
    "\n",
    "# Operaciones aritméticas\n",
    "sum_int_float = myint + myfloat\n",
    "print(sum_int_float, type(sum_int_float))\n",
    "\n",
    "# Resta\n",
    "print(15-7.3)\n",
    "\n",
    "# Multiplicación\n",
    "print(2 * 9.5)\n",
    "\n",
    "# División\n",
    "print(10 / 3)\n",
    "\n",
    "# Potencias\n",
    "print(3 ** 3)\n",
    "\n",
    "# Raices\n",
    "print(16 ** (1/2))"
   ]
  },
  {
   "cell_type": "code",
   "execution_count": 22,
   "metadata": {},
   "outputs": [
    {
     "name": "stdout",
     "output_type": "stream",
     "text": [
      "False <class 'bool'>\n",
      "True\n",
      "True\n",
      "False\n",
      "False\n",
      "True\n"
     ]
    }
   ],
   "source": [
    "# Booleanos\n",
    "mybool = True\n",
    "mybool = False\n",
    "\n",
    "print(mybool, type(mybool))\n",
    "\n",
    "print(2 == 2.0)\n",
    "print(2 != 3)\n",
    "print(2 == 3)\n",
    "\n",
    "print(\"Hola Mundo\" == \"hola Mundo\")\n",
    "print(\"Hola Mundo\" == \"hola Mundo\".title())"
   ]
  },
  {
   "cell_type": "code",
   "execution_count": 23,
   "metadata": {},
   "outputs": [
    {
     "name": "stdout",
     "output_type": "stream",
     "text": [
      "5\n",
      "['cadenas', 152, 152.56, True, ['cadenas', 152, 152.56, True]] <class 'list'>\n"
     ]
    }
   ],
   "source": [
    "# Listas\n",
    "mylist = [0, 1, 2, 3]\n",
    "mylist2 = ['a', 'b', 'c']\n",
    "\n",
    "# Agregar elementos a una lista\n",
    "mylist.append(4)\n",
    "\n",
    "# Longitud de una lista\n",
    "print(len(mylist))\n",
    "\n",
    "mylist3 = [\"cadenas\", 152, 152.56, True, [\"cadenas\", 152, 152.56, True]]\n",
    "print(mylist3, type(mylist3))"
   ]
  },
  {
   "cell_type": "code",
   "execution_count": 28,
   "metadata": {},
   "outputs": [
    {
     "name": "stdout",
     "output_type": "stream",
     "text": [
      "{'a': 1, 'b': 2, 'c': 3} <class 'dict'>\n",
      "1\n",
      "dict_keys(['a', 'b', 'c'])\n",
      "dict_values(['manzanas', 'banano', 'fresas'])\n",
      "Manzanas\n",
      "{'a': 'Manzanas', 'b': 'banano', 'c': 'fresas', 'd': 'mangos', 'e': 'cocos'}\n"
     ]
    }
   ],
   "source": [
    "# Diccionarios\n",
    "mydict = {'a': 1, 'b': 2, 'c': 3}\n",
    "mydict2 = {'a': 'manzanas', 'b': 'banano', 'c': 'fresas'}\n",
    "\n",
    "print(mydict, type(mydict))\n",
    "\n",
    "# Tener acceso a un elemento del diccionario\n",
    "print(mydict.get('a'))\n",
    "\n",
    "print(mydict2.keys())\n",
    "\n",
    "print(mydict2.values())\n",
    "\n",
    "mydict2['a'] = 'Manzanas'\n",
    "print(mydict2.get('a'))\n",
    "\n",
    "mydict2['d'] = 'mangos'\n",
    "mydict2['e'] = 'cocos'\n",
    "\n",
    "print(mydict2)"
   ]
  },
  {
   "cell_type": "markdown",
   "metadata": {},
   "source": [
    "### 3. Condicionales"
   ]
  },
  {
   "cell_type": "code",
   "execution_count": 31,
   "metadata": {},
   "outputs": [
    {
     "name": "stdout",
     "output_type": "stream",
     "text": [
      "Es 10\n"
     ]
    }
   ],
   "source": [
    "myint = 10\n",
    "\n",
    "if myint == 10:\n",
    "    print(\"Es 10\")\n",
    "elif myint == 11:\n",
    "    print(\"Es 11\")\n",
    "else:\n",
    "    print(\"No es 10 ni 11\")"
   ]
  },
  {
   "cell_type": "markdown",
   "metadata": {},
   "source": [
    "### 4. Bucles"
   ]
  },
  {
   "cell_type": "code",
   "execution_count": 34,
   "metadata": {},
   "outputs": [
    {
     "name": "stdout",
     "output_type": "stream",
     "text": [
      "0 1\n",
      "1 2\n",
      "2 3\n",
      "3 4\n",
      "4 5\n"
     ]
    }
   ],
   "source": [
    "for i in range(5):\n",
    "    print(i, i+1)"
   ]
  },
  {
   "cell_type": "code",
   "execution_count": 36,
   "metadata": {},
   "outputs": [
    {
     "name": "stdout",
     "output_type": "stream",
     "text": [
      "a\n",
      "b\n",
      "c\n"
     ]
    }
   ],
   "source": [
    "for i in mylist2:\n",
    "    print(i)"
   ]
  },
  {
   "cell_type": "code",
   "execution_count": 38,
   "metadata": {},
   "outputs": [
    {
     "name": "stdout",
     "output_type": "stream",
     "text": [
      "0\n",
      "1\n",
      "2\n",
      "3\n",
      "4\n",
      "Fin del bucle\n"
     ]
    }
   ],
   "source": [
    "i = 0\n",
    "while i < 5:\n",
    "    print(i)\n",
    "    i += 1\n",
    "\n",
    "print(\"Fin del bucle\")"
   ]
  },
  {
   "cell_type": "markdown",
   "metadata": {},
   "source": [
    "### 5. Funciones"
   ]
  },
  {
   "cell_type": "code",
   "execution_count": 39,
   "metadata": {},
   "outputs": [],
   "source": [
    "def potencia(base, exponente):\n",
    "    return base ** exponente"
   ]
  },
  {
   "cell_type": "code",
   "execution_count": 40,
   "metadata": {},
   "outputs": [
    {
     "name": "stdout",
     "output_type": "stream",
     "text": [
      "1\n",
      "2\n",
      "4\n",
      "8\n",
      "16\n"
     ]
    }
   ],
   "source": [
    "for i in range(5):\n",
    "    print(potencia(2, i))"
   ]
  },
  {
   "cell_type": "code",
   "execution_count": 41,
   "metadata": {},
   "outputs": [
    {
     "name": "stdout",
     "output_type": "stream",
     "text": [
      "5\n",
      "5\n"
     ]
    }
   ],
   "source": [
    "def sumar(num1, num2):\n",
    "    return num1 + num2\n",
    "\n",
    "print(sumar(2, 3))\n",
    "print(sumar(3, 2))"
   ]
  },
  {
   "cell_type": "code",
   "execution_count": 42,
   "metadata": {},
   "outputs": [
    {
     "name": "stdout",
     "output_type": "stream",
     "text": [
      "Hola Mundo\n",
      "Hola MUNDO\n",
      "Hola mundo\n"
     ]
    }
   ],
   "source": [
    "def concatenar(cadena1, cadena2):\n",
    "    return cadena1 + \" \" + cadena2\n",
    "\n",
    "print(concatenar(\"Hola\", \"Mundo\"))\n",
    "print(concatenar(\"Hola\", \"Mundo\".upper()))\n",
    "print(concatenar(\"Hola\", \"Mundo\".lower()))"
   ]
  },
  {
   "cell_type": "code",
   "execution_count": null,
   "metadata": {},
   "outputs": [],
   "source": []
  }
 ],
 "metadata": {
  "kernelspec": {
   "display_name": "Python 3",
   "language": "python",
   "name": "python3"
  },
  "language_info": {
   "codemirror_mode": {
    "name": "ipython",
    "version": 3
   },
   "file_extension": ".py",
   "mimetype": "text/x-python",
   "name": "python",
   "nbconvert_exporter": "python",
   "pygments_lexer": "ipython3",
   "version": "3.11.9"
  }
 },
 "nbformat": 4,
 "nbformat_minor": 2
}
