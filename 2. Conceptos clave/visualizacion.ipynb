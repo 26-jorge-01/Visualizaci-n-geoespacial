{
 "cells": [
  {
   "cell_type": "markdown",
   "metadata": {},
   "source": [
    "# Visualización de Datos Climáticos con Python\n",
    "\n",
    "## Introducción\n",
    "\n",
    "Hoy vamos a trabajar con datos climáticos usando una API pública y visualizarlos en un mapa interactivo. Este ejercicio es ideal para aprender a combinar la recolección de datos de internet con herramientas de visualización geoespacial.\n",
    "\n",
    "## Objetivos de la clase:\n",
    "\n",
    "Usar la API de OpenWeatherMap para obtener datos climáticos.\n",
    "Crear mapas interactivos con Folium.\n",
    "Personalizar los mapas con colores, iconos y capas.\n",
    "\n",
    "## Paso 1: Importar librerías necesarias\n",
    "Primero, vamos a cargar las herramientas que usaremos:"
   ]
  },
  {
   "cell_type": "code",
   "execution_count": 1,
   "metadata": {},
   "outputs": [],
   "source": [
    "import requests\n",
    "import folium"
   ]
  },
  {
   "cell_type": "markdown",
   "metadata": {},
   "source": [
    "* ```requests```: Es una librería que usamos para conectarnos a internet y descargar información de una API.\n",
    "* ```folium```: Es la estrella del día; con esta herramienta crearemos mapas interactivos.\n",
    "\n",
    "Siempre que empieces un proyecto en Python, importa solo las librerías que realmente necesites para mantener tu código organizado.\n",
    "\n",
    "## Paso 2: Conectar con la API de OpenWeatherMap\n",
    "\n",
    "Ahora necesitamos conectarnos a la API para obtener datos climáticos. Para esto, necesitamos una **clave de acceso (API key)**, que se obtiene al registrarse en [OpenWeatherMap](https://openweathermap.org/).\n",
    "\n",
    "Aquí configuramos los parámetros básicos:"
   ]
  },
  {
   "cell_type": "code",
   "execution_count": 2,
   "metadata": {},
   "outputs": [],
   "source": [
    "# Parámetros para la API\n",
    "api_key = \"ad6e06e230f7307598923265cf881c17\"\n",
    "cities = [\"Bogotá\", \"Medellín\", \"Cali\", \"Barranquilla\"]  # Ciudades objetivo\n",
    "base_url = \"http://api.openweathermap.org/data/2.5/weather\""
   ]
  },
  {
   "cell_type": "markdown",
   "metadata": {},
   "source": [
    "1. **api_key:** Es tu identificador único para usar la API.\n",
    "2. **cities:** Es una lista de las ciudades de las que queremos obtener información.\n",
    "3. **base_url:** Es la URL de la API para obtener datos climáticos actuales.\n",
    "\n",
    "Ejemplo de solicitud para Bogotá:"
   ]
  },
  {
   "cell_type": "code",
   "execution_count": 3,
   "metadata": {},
   "outputs": [
    {
     "name": "stdout",
     "output_type": "stream",
     "text": [
      "{'coord': {'lon': -74.0817, 'lat': 4.6097}, 'weather': [{'id': 803, 'main': 'Clouds', 'description': 'broken clouds', 'icon': '04n'}], 'base': 'stations', 'main': {'temp': 10.81, 'feels_like': 10.56, 'temp_min': 10.81, 'temp_max': 11.49, 'pressure': 1018, 'humidity': 100, 'sea_level': 1018, 'grnd_level': 737}, 'visibility': 10000, 'wind': {'speed': 0.6, 'deg': 76, 'gust': 1.04}, 'clouds': {'all': 59}, 'dt': 1733207254, 'sys': {'type': 2, 'id': 2099091, 'country': 'CO', 'sunrise': 1733223028, 'sunset': 1733265756}, 'timezone': -18000, 'id': 3688689, 'name': 'Bogota', 'cod': 200}\n"
     ]
    }
   ],
   "source": [
    "# Obtener datos para una ciudad\n",
    "params = {\"q\": \"Bogotá\", \"appid\": api_key, \"units\": \"metric\"}\n",
    "response = requests.get(base_url, params=params)\n",
    "data = response.json()\n",
    "\n",
    "print(data)  # Explorar los datos obtenidos"
   ]
  },
  {
   "cell_type": "markdown",
   "metadata": {},
   "source": [
    "* **q:** Es el nombre de la ciudad.\n",
    "* **appid:** Es tu clave de acceso.\n",
    "* **units:** Especifica el sistema métrico para la temperatura (°C).\n",
    "\n",
    "**Resultado:** El servidor responde con un diccionario que contiene información como temperatura, humedad y descripción del clima.\n",
    "\n",
    "## Paso 3: Crear una función para obtener datos de cualquier ciudad\n",
    "\n",
    "Escribir funciones nos permite evitar repetir código. Aquí está nuestra función:"
   ]
  },
  {
   "cell_type": "code",
   "execution_count": 4,
   "metadata": {},
   "outputs": [],
   "source": [
    "def get_city_weather(city, api_key):\n",
    "    params = {\"q\": city, \"appid\": api_key, \"units\": \"metric\"}\n",
    "    response = requests.get(base_url, params=params)\n",
    "    if response.status_code == 200:\n",
    "        data = response.json()\n",
    "        return {\n",
    "            \"city\": data[\"name\"],\n",
    "            \"lat\": data[\"coord\"][\"lat\"],\n",
    "            \"lon\": data[\"coord\"][\"lon\"],\n",
    "            \"temp\": data[\"main\"][\"temp\"],\n",
    "            \"humidity\": data[\"main\"][\"humidity\"],\n",
    "            \"weather\": data[\"weather\"][0][\"description\"].capitalize(),\n",
    "            \"wind_speed\": data[\"wind\"][\"speed\"],\n",
    "            \"icon\": data[\"weather\"][0][\"icon\"]\n",
    "        }\n",
    "    else:\n",
    "        print(f\"Error al obtener datos para {city}\")\n",
    "        return None"
   ]
  },
  {
   "cell_type": "markdown",
   "metadata": {},
   "source": [
    "* **Entrada:** Nombre de la ciudad y tu clave de API.\n",
    "* **Salida:** Un diccionario con información relevante: nombre, coordenadas, temperatura, humedad, clima, velocidad del viento e ícono.\n",
    "\n",
    "Esto hace que sea fácil procesar varias ciudades.\n",
    "\n",
    "## Paso 4: Obtener datos para múltiples ciudades\n",
    "\n",
    "Ahora, aplicamos nuestra función a todas las ciudades de la lista."
   ]
  },
  {
   "cell_type": "code",
   "execution_count": 5,
   "metadata": {},
   "outputs": [
    {
     "name": "stdout",
     "output_type": "stream",
     "text": [
      "[{'city': 'Bogota', 'lat': 4.6097, 'lon': -74.0817, 'temp': 10.81, 'humidity': 100, 'weather': 'Broken clouds', 'wind_speed': 0.6, 'icon': '04n'}, {'city': 'Medellín', 'lat': 6.2518, 'lon': -75.5636, 'temp': 17.79, 'humidity': 96, 'weather': 'Overcast clouds', 'wind_speed': 8.94, 'icon': '04n'}, {'city': 'Santiago de Cali', 'lat': 3.4372, 'lon': -76.5225, 'temp': 18.31, 'humidity': 88, 'weather': 'Overcast clouds', 'wind_speed': 2.24, 'icon': '04n'}, {'city': 'Barranquilla', 'lat': 10.9639, 'lon': -74.7964, 'temp': 26.31, 'humidity': 85, 'weather': 'Overcast clouds', 'wind_speed': 2.7, 'icon': '04n'}]\n"
     ]
    }
   ],
   "source": [
    "weather_data = [get_city_weather(city, api_key) for city in cities if get_city_weather(city, api_key)]\n",
    "print(weather_data)"
   ]
  },
  {
   "cell_type": "markdown",
   "metadata": {},
   "source": [
    "Aquí usamos una lista por comprensión:\n",
    "\n",
    "* Llama a la función get_city_weather para cada ciudad.\n",
    "* Filtra las ciudades para las que no se pudo obtener información.\n",
    "\n",
    "El resultado es una lista de diccionarios con datos climáticos.\n",
    "\n",
    "## Paso 5: Crear un mapa base\n",
    "\n",
    "Para visualizar los datos, primero creamos un mapa centrado en Colombia."
   ]
  },
  {
   "cell_type": "code",
   "execution_count": 6,
   "metadata": {},
   "outputs": [],
   "source": [
    "# Coordenadas aproximadas de Colombia\n",
    "center_coords = [4.570868, -74.297333]\n",
    "map_base = folium.Map(location=center_coords, zoom_start=6)"
   ]
  },
  {
   "cell_type": "markdown",
   "metadata": {},
   "source": [
    "1. **location:** Coordenadas iniciales del mapa.\n",
    "2. **zoom_start:** Nivel de zoom inicial.\n",
    "\n",
    "## Paso 6: Añadir marcadores al mapa\n",
    "\n",
    "Ahora, colocamos un marcador en el mapa para cada ciudad."
   ]
  },
  {
   "cell_type": "code",
   "execution_count": 7,
   "metadata": {},
   "outputs": [],
   "source": [
    "for city in weather_data:\n",
    "    folium.Marker(\n",
    "        location=[city[\"lat\"], city[\"lon\"]],\n",
    "        popup=f\"{city['city']}: {city['temp']} °C\",\n",
    "        icon=folium.Icon(color=\"blue\", icon=\"info-sign\")\n",
    "    ).add_to(map_base)"
   ]
  },
  {
   "cell_type": "markdown",
   "metadata": {},
   "source": [
    "* **location:** Ubicación geográfica de la ciudad.\n",
    "* **popup:** Texto que aparece al hacer clic en el marcador.\n",
    "* **icon:** Cambia el estilo del marcador.\n",
    "\n",
    "## Paso 7: Guardar el mapa\n",
    "El mapa se guarda en un archivo HTML para que puedas abrirlo en cualquier navegador."
   ]
  },
  {
   "cell_type": "code",
   "execution_count": 8,
   "metadata": {},
   "outputs": [],
   "source": [
    "map_base.save(\"mapa_clima_inicial.html\")"
   ]
  },
  {
   "cell_type": "markdown",
   "metadata": {},
   "source": [
    "## Paso 8: Personalizar el mapa\n",
    "Podemos hacer que el mapa sea más interactivo y visual:\n",
    "\n",
    "1. **Colores dinámicos según la temperatura:**"
   ]
  },
  {
   "cell_type": "code",
   "execution_count": 9,
   "metadata": {},
   "outputs": [],
   "source": [
    "def get_color(temp):\n",
    "    if temp < 10:\n",
    "        return \"blue\"\n",
    "    elif 10 <= temp <= 20:\n",
    "        return \"green\"\n",
    "    elif 20 < temp <= 30:\n",
    "        return \"orange\"\n",
    "    else:\n",
    "        return \"red\""
   ]
  },
  {
   "cell_type": "markdown",
   "metadata": {},
   "source": [
    "Esto asigna un color a cada marcador según la temperatura.\n",
    "\n",
    "2. **Añadir círculos escalados:**"
   ]
  },
  {
   "cell_type": "code",
   "execution_count": 10,
   "metadata": {},
   "outputs": [],
   "source": [
    "for city in weather_data:\n",
    "    folium.CircleMarker(\n",
    "        location=[city[\"lat\"], city[\"lon\"]],\n",
    "        radius=city[\"temp\"] / 2,  # Escalar el tamaño del círculo con la temperatura\n",
    "        color=get_color(city[\"temp\"]),\n",
    "        fill=True,\n",
    "        fill_opacity=0.6,\n",
    "        popup=f\"Temperatura: {city['temp']} °C\"\n",
    "    ).add_to(map_base)\n",
    "\n",
    "map_base.save(\"mapa_clima_final.html\")"
   ]
  },
  {
   "cell_type": "markdown",
   "metadata": {},
   "source": [
    "Los círculos muestran visualmente la temperatura de cada ciudad.\n",
    "\n",
    "## Conclusión\n",
    "Con este proyecto, aprendimos a:\n",
    "\n",
    "1. Conectarnos a una API para obtener datos en tiempo real.\n",
    "2. Procesar datos geoespaciales.\n",
    "3. Crear mapas interactivos personalizados.\n",
    "\n",
    "El resultado final es un mapa atractivo y funcional que combina datos reales con visualización interactiva."
   ]
  },
  {
   "cell_type": "code",
   "execution_count": null,
   "metadata": {},
   "outputs": [],
   "source": []
  }
 ],
 "metadata": {
  "kernelspec": {
   "display_name": "Python 3",
   "language": "python",
   "name": "python3"
  },
  "language_info": {
   "codemirror_mode": {
    "name": "ipython",
    "version": 3
   },
   "file_extension": ".py",
   "mimetype": "text/x-python",
   "name": "python",
   "nbconvert_exporter": "python",
   "pygments_lexer": "ipython3",
   "version": "3.11.9"
  }
 },
 "nbformat": 4,
 "nbformat_minor": 2
}
